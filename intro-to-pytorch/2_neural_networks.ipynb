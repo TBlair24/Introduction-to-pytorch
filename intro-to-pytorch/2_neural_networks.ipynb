{
  "nbformat": 4,
  "nbformat_minor": 0,
  "metadata": {
    "colab": {
      "name": "2_neural_networks.ipynb",
      "provenance": [],
      "collapsed_sections": [],
      "authorship_tag": "ABX9TyPHVF9JMNMpqfo224R1t1J7",
      "include_colab_link": true
    },
    "kernelspec": {
      "name": "python3",
      "display_name": "Python 3"
    },
    "language_info": {
      "name": "python"
    },
    "widgets": {
      "application/vnd.jupyter.widget-state+json": {
        "bb53270b368840049d3336535fc59a4e": {
          "model_module": "@jupyter-widgets/controls",
          "model_name": "HBoxModel",
          "model_module_version": "1.5.0",
          "state": {
            "_dom_classes": [],
            "_model_module": "@jupyter-widgets/controls",
            "_model_module_version": "1.5.0",
            "_model_name": "HBoxModel",
            "_view_count": null,
            "_view_module": "@jupyter-widgets/controls",
            "_view_module_version": "1.5.0",
            "_view_name": "HBoxView",
            "box_style": "",
            "children": [
              "IPY_MODEL_7b6e0e8fb072471dacf46b66ad0282a5",
              "IPY_MODEL_5351d7e37cfe44d191eea4112c1a432d",
              "IPY_MODEL_0e4713c5eab34d8a96fe6522719e3e34"
            ],
            "layout": "IPY_MODEL_b1e0bbc011fc43e4a91bedc898bca453"
          }
        },
        "7b6e0e8fb072471dacf46b66ad0282a5": {
          "model_module": "@jupyter-widgets/controls",
          "model_name": "HTMLModel",
          "model_module_version": "1.5.0",
          "state": {
            "_dom_classes": [],
            "_model_module": "@jupyter-widgets/controls",
            "_model_module_version": "1.5.0",
            "_model_name": "HTMLModel",
            "_view_count": null,
            "_view_module": "@jupyter-widgets/controls",
            "_view_module_version": "1.5.0",
            "_view_name": "HTMLView",
            "description": "",
            "description_tooltip": null,
            "layout": "IPY_MODEL_e70391bf6bb54c9793ed23aeaae9854d",
            "placeholder": "​",
            "style": "IPY_MODEL_c2011866fdd541c99c1d4501513e311b",
            "value": ""
          }
        },
        "5351d7e37cfe44d191eea4112c1a432d": {
          "model_module": "@jupyter-widgets/controls",
          "model_name": "FloatProgressModel",
          "model_module_version": "1.5.0",
          "state": {
            "_dom_classes": [],
            "_model_module": "@jupyter-widgets/controls",
            "_model_module_version": "1.5.0",
            "_model_name": "FloatProgressModel",
            "_view_count": null,
            "_view_module": "@jupyter-widgets/controls",
            "_view_module_version": "1.5.0",
            "_view_name": "ProgressView",
            "bar_style": "success",
            "description": "",
            "description_tooltip": null,
            "layout": "IPY_MODEL_cd849afbeb894bd5999a5b190f3e8aa7",
            "max": 9912422,
            "min": 0,
            "orientation": "horizontal",
            "style": "IPY_MODEL_fa27a603f2424668ae395979fc982464",
            "value": 9912422
          }
        },
        "0e4713c5eab34d8a96fe6522719e3e34": {
          "model_module": "@jupyter-widgets/controls",
          "model_name": "HTMLModel",
          "model_module_version": "1.5.0",
          "state": {
            "_dom_classes": [],
            "_model_module": "@jupyter-widgets/controls",
            "_model_module_version": "1.5.0",
            "_model_name": "HTMLModel",
            "_view_count": null,
            "_view_module": "@jupyter-widgets/controls",
            "_view_module_version": "1.5.0",
            "_view_name": "HTMLView",
            "description": "",
            "description_tooltip": null,
            "layout": "IPY_MODEL_4be4bf2e07a74c428a55ccb6f890a443",
            "placeholder": "​",
            "style": "IPY_MODEL_2c843190542e4c47acec79f860047045",
            "value": " 9913344/? [00:00&lt;00:00, 16035472.98it/s]"
          }
        },
        "b1e0bbc011fc43e4a91bedc898bca453": {
          "model_module": "@jupyter-widgets/base",
          "model_name": "LayoutModel",
          "model_module_version": "1.2.0",
          "state": {
            "_model_module": "@jupyter-widgets/base",
            "_model_module_version": "1.2.0",
            "_model_name": "LayoutModel",
            "_view_count": null,
            "_view_module": "@jupyter-widgets/base",
            "_view_module_version": "1.2.0",
            "_view_name": "LayoutView",
            "align_content": null,
            "align_items": null,
            "align_self": null,
            "border": null,
            "bottom": null,
            "display": null,
            "flex": null,
            "flex_flow": null,
            "grid_area": null,
            "grid_auto_columns": null,
            "grid_auto_flow": null,
            "grid_auto_rows": null,
            "grid_column": null,
            "grid_gap": null,
            "grid_row": null,
            "grid_template_areas": null,
            "grid_template_columns": null,
            "grid_template_rows": null,
            "height": null,
            "justify_content": null,
            "justify_items": null,
            "left": null,
            "margin": null,
            "max_height": null,
            "max_width": null,
            "min_height": null,
            "min_width": null,
            "object_fit": null,
            "object_position": null,
            "order": null,
            "overflow": null,
            "overflow_x": null,
            "overflow_y": null,
            "padding": null,
            "right": null,
            "top": null,
            "visibility": null,
            "width": null
          }
        },
        "e70391bf6bb54c9793ed23aeaae9854d": {
          "model_module": "@jupyter-widgets/base",
          "model_name": "LayoutModel",
          "model_module_version": "1.2.0",
          "state": {
            "_model_module": "@jupyter-widgets/base",
            "_model_module_version": "1.2.0",
            "_model_name": "LayoutModel",
            "_view_count": null,
            "_view_module": "@jupyter-widgets/base",
            "_view_module_version": "1.2.0",
            "_view_name": "LayoutView",
            "align_content": null,
            "align_items": null,
            "align_self": null,
            "border": null,
            "bottom": null,
            "display": null,
            "flex": null,
            "flex_flow": null,
            "grid_area": null,
            "grid_auto_columns": null,
            "grid_auto_flow": null,
            "grid_auto_rows": null,
            "grid_column": null,
            "grid_gap": null,
            "grid_row": null,
            "grid_template_areas": null,
            "grid_template_columns": null,
            "grid_template_rows": null,
            "height": null,
            "justify_content": null,
            "justify_items": null,
            "left": null,
            "margin": null,
            "max_height": null,
            "max_width": null,
            "min_height": null,
            "min_width": null,
            "object_fit": null,
            "object_position": null,
            "order": null,
            "overflow": null,
            "overflow_x": null,
            "overflow_y": null,
            "padding": null,
            "right": null,
            "top": null,
            "visibility": null,
            "width": null
          }
        },
        "c2011866fdd541c99c1d4501513e311b": {
          "model_module": "@jupyter-widgets/controls",
          "model_name": "DescriptionStyleModel",
          "model_module_version": "1.5.0",
          "state": {
            "_model_module": "@jupyter-widgets/controls",
            "_model_module_version": "1.5.0",
            "_model_name": "DescriptionStyleModel",
            "_view_count": null,
            "_view_module": "@jupyter-widgets/base",
            "_view_module_version": "1.2.0",
            "_view_name": "StyleView",
            "description_width": ""
          }
        },
        "cd849afbeb894bd5999a5b190f3e8aa7": {
          "model_module": "@jupyter-widgets/base",
          "model_name": "LayoutModel",
          "model_module_version": "1.2.0",
          "state": {
            "_model_module": "@jupyter-widgets/base",
            "_model_module_version": "1.2.0",
            "_model_name": "LayoutModel",
            "_view_count": null,
            "_view_module": "@jupyter-widgets/base",
            "_view_module_version": "1.2.0",
            "_view_name": "LayoutView",
            "align_content": null,
            "align_items": null,
            "align_self": null,
            "border": null,
            "bottom": null,
            "display": null,
            "flex": null,
            "flex_flow": null,
            "grid_area": null,
            "grid_auto_columns": null,
            "grid_auto_flow": null,
            "grid_auto_rows": null,
            "grid_column": null,
            "grid_gap": null,
            "grid_row": null,
            "grid_template_areas": null,
            "grid_template_columns": null,
            "grid_template_rows": null,
            "height": null,
            "justify_content": null,
            "justify_items": null,
            "left": null,
            "margin": null,
            "max_height": null,
            "max_width": null,
            "min_height": null,
            "min_width": null,
            "object_fit": null,
            "object_position": null,
            "order": null,
            "overflow": null,
            "overflow_x": null,
            "overflow_y": null,
            "padding": null,
            "right": null,
            "top": null,
            "visibility": null,
            "width": null
          }
        },
        "fa27a603f2424668ae395979fc982464": {
          "model_module": "@jupyter-widgets/controls",
          "model_name": "ProgressStyleModel",
          "model_module_version": "1.5.0",
          "state": {
            "_model_module": "@jupyter-widgets/controls",
            "_model_module_version": "1.5.0",
            "_model_name": "ProgressStyleModel",
            "_view_count": null,
            "_view_module": "@jupyter-widgets/base",
            "_view_module_version": "1.2.0",
            "_view_name": "StyleView",
            "bar_color": null,
            "description_width": ""
          }
        },
        "4be4bf2e07a74c428a55ccb6f890a443": {
          "model_module": "@jupyter-widgets/base",
          "model_name": "LayoutModel",
          "model_module_version": "1.2.0",
          "state": {
            "_model_module": "@jupyter-widgets/base",
            "_model_module_version": "1.2.0",
            "_model_name": "LayoutModel",
            "_view_count": null,
            "_view_module": "@jupyter-widgets/base",
            "_view_module_version": "1.2.0",
            "_view_name": "LayoutView",
            "align_content": null,
            "align_items": null,
            "align_self": null,
            "border": null,
            "bottom": null,
            "display": null,
            "flex": null,
            "flex_flow": null,
            "grid_area": null,
            "grid_auto_columns": null,
            "grid_auto_flow": null,
            "grid_auto_rows": null,
            "grid_column": null,
            "grid_gap": null,
            "grid_row": null,
            "grid_template_areas": null,
            "grid_template_columns": null,
            "grid_template_rows": null,
            "height": null,
            "justify_content": null,
            "justify_items": null,
            "left": null,
            "margin": null,
            "max_height": null,
            "max_width": null,
            "min_height": null,
            "min_width": null,
            "object_fit": null,
            "object_position": null,
            "order": null,
            "overflow": null,
            "overflow_x": null,
            "overflow_y": null,
            "padding": null,
            "right": null,
            "top": null,
            "visibility": null,
            "width": null
          }
        },
        "2c843190542e4c47acec79f860047045": {
          "model_module": "@jupyter-widgets/controls",
          "model_name": "DescriptionStyleModel",
          "model_module_version": "1.5.0",
          "state": {
            "_model_module": "@jupyter-widgets/controls",
            "_model_module_version": "1.5.0",
            "_model_name": "DescriptionStyleModel",
            "_view_count": null,
            "_view_module": "@jupyter-widgets/base",
            "_view_module_version": "1.2.0",
            "_view_name": "StyleView",
            "description_width": ""
          }
        },
        "ce7b6c0806614ef09e14166f4353dfd9": {
          "model_module": "@jupyter-widgets/controls",
          "model_name": "HBoxModel",
          "model_module_version": "1.5.0",
          "state": {
            "_dom_classes": [],
            "_model_module": "@jupyter-widgets/controls",
            "_model_module_version": "1.5.0",
            "_model_name": "HBoxModel",
            "_view_count": null,
            "_view_module": "@jupyter-widgets/controls",
            "_view_module_version": "1.5.0",
            "_view_name": "HBoxView",
            "box_style": "",
            "children": [
              "IPY_MODEL_9a20f36f940742a4b0afa7a398d3f6ff",
              "IPY_MODEL_2666bd6135d64c02bf7038ec10f74361",
              "IPY_MODEL_4c4848fc9c1b4e8a974daee24f281ee5"
            ],
            "layout": "IPY_MODEL_398a581403224128826440b363a24a5c"
          }
        },
        "9a20f36f940742a4b0afa7a398d3f6ff": {
          "model_module": "@jupyter-widgets/controls",
          "model_name": "HTMLModel",
          "model_module_version": "1.5.0",
          "state": {
            "_dom_classes": [],
            "_model_module": "@jupyter-widgets/controls",
            "_model_module_version": "1.5.0",
            "_model_name": "HTMLModel",
            "_view_count": null,
            "_view_module": "@jupyter-widgets/controls",
            "_view_module_version": "1.5.0",
            "_view_name": "HTMLView",
            "description": "",
            "description_tooltip": null,
            "layout": "IPY_MODEL_6494ca7cb0bd4841ae04252ee860869a",
            "placeholder": "​",
            "style": "IPY_MODEL_7010a28d37c24081a5fa3ff88c11f545",
            "value": ""
          }
        },
        "2666bd6135d64c02bf7038ec10f74361": {
          "model_module": "@jupyter-widgets/controls",
          "model_name": "FloatProgressModel",
          "model_module_version": "1.5.0",
          "state": {
            "_dom_classes": [],
            "_model_module": "@jupyter-widgets/controls",
            "_model_module_version": "1.5.0",
            "_model_name": "FloatProgressModel",
            "_view_count": null,
            "_view_module": "@jupyter-widgets/controls",
            "_view_module_version": "1.5.0",
            "_view_name": "ProgressView",
            "bar_style": "success",
            "description": "",
            "description_tooltip": null,
            "layout": "IPY_MODEL_2237f9b94ae547689cffce202c6f868d",
            "max": 28881,
            "min": 0,
            "orientation": "horizontal",
            "style": "IPY_MODEL_7893f42a9eaa4e03bf88ed2bf04bee03",
            "value": 28881
          }
        },
        "4c4848fc9c1b4e8a974daee24f281ee5": {
          "model_module": "@jupyter-widgets/controls",
          "model_name": "HTMLModel",
          "model_module_version": "1.5.0",
          "state": {
            "_dom_classes": [],
            "_model_module": "@jupyter-widgets/controls",
            "_model_module_version": "1.5.0",
            "_model_name": "HTMLModel",
            "_view_count": null,
            "_view_module": "@jupyter-widgets/controls",
            "_view_module_version": "1.5.0",
            "_view_name": "HTMLView",
            "description": "",
            "description_tooltip": null,
            "layout": "IPY_MODEL_41e037ba445e4f0c8ba52346a566fe90",
            "placeholder": "​",
            "style": "IPY_MODEL_1f81743370684d15b52dd39fdc09da80",
            "value": " 29696/? [00:00&lt;00:00, 838042.40it/s]"
          }
        },
        "398a581403224128826440b363a24a5c": {
          "model_module": "@jupyter-widgets/base",
          "model_name": "LayoutModel",
          "model_module_version": "1.2.0",
          "state": {
            "_model_module": "@jupyter-widgets/base",
            "_model_module_version": "1.2.0",
            "_model_name": "LayoutModel",
            "_view_count": null,
            "_view_module": "@jupyter-widgets/base",
            "_view_module_version": "1.2.0",
            "_view_name": "LayoutView",
            "align_content": null,
            "align_items": null,
            "align_self": null,
            "border": null,
            "bottom": null,
            "display": null,
            "flex": null,
            "flex_flow": null,
            "grid_area": null,
            "grid_auto_columns": null,
            "grid_auto_flow": null,
            "grid_auto_rows": null,
            "grid_column": null,
            "grid_gap": null,
            "grid_row": null,
            "grid_template_areas": null,
            "grid_template_columns": null,
            "grid_template_rows": null,
            "height": null,
            "justify_content": null,
            "justify_items": null,
            "left": null,
            "margin": null,
            "max_height": null,
            "max_width": null,
            "min_height": null,
            "min_width": null,
            "object_fit": null,
            "object_position": null,
            "order": null,
            "overflow": null,
            "overflow_x": null,
            "overflow_y": null,
            "padding": null,
            "right": null,
            "top": null,
            "visibility": null,
            "width": null
          }
        },
        "6494ca7cb0bd4841ae04252ee860869a": {
          "model_module": "@jupyter-widgets/base",
          "model_name": "LayoutModel",
          "model_module_version": "1.2.0",
          "state": {
            "_model_module": "@jupyter-widgets/base",
            "_model_module_version": "1.2.0",
            "_model_name": "LayoutModel",
            "_view_count": null,
            "_view_module": "@jupyter-widgets/base",
            "_view_module_version": "1.2.0",
            "_view_name": "LayoutView",
            "align_content": null,
            "align_items": null,
            "align_self": null,
            "border": null,
            "bottom": null,
            "display": null,
            "flex": null,
            "flex_flow": null,
            "grid_area": null,
            "grid_auto_columns": null,
            "grid_auto_flow": null,
            "grid_auto_rows": null,
            "grid_column": null,
            "grid_gap": null,
            "grid_row": null,
            "grid_template_areas": null,
            "grid_template_columns": null,
            "grid_template_rows": null,
            "height": null,
            "justify_content": null,
            "justify_items": null,
            "left": null,
            "margin": null,
            "max_height": null,
            "max_width": null,
            "min_height": null,
            "min_width": null,
            "object_fit": null,
            "object_position": null,
            "order": null,
            "overflow": null,
            "overflow_x": null,
            "overflow_y": null,
            "padding": null,
            "right": null,
            "top": null,
            "visibility": null,
            "width": null
          }
        },
        "7010a28d37c24081a5fa3ff88c11f545": {
          "model_module": "@jupyter-widgets/controls",
          "model_name": "DescriptionStyleModel",
          "model_module_version": "1.5.0",
          "state": {
            "_model_module": "@jupyter-widgets/controls",
            "_model_module_version": "1.5.0",
            "_model_name": "DescriptionStyleModel",
            "_view_count": null,
            "_view_module": "@jupyter-widgets/base",
            "_view_module_version": "1.2.0",
            "_view_name": "StyleView",
            "description_width": ""
          }
        },
        "2237f9b94ae547689cffce202c6f868d": {
          "model_module": "@jupyter-widgets/base",
          "model_name": "LayoutModel",
          "model_module_version": "1.2.0",
          "state": {
            "_model_module": "@jupyter-widgets/base",
            "_model_module_version": "1.2.0",
            "_model_name": "LayoutModel",
            "_view_count": null,
            "_view_module": "@jupyter-widgets/base",
            "_view_module_version": "1.2.0",
            "_view_name": "LayoutView",
            "align_content": null,
            "align_items": null,
            "align_self": null,
            "border": null,
            "bottom": null,
            "display": null,
            "flex": null,
            "flex_flow": null,
            "grid_area": null,
            "grid_auto_columns": null,
            "grid_auto_flow": null,
            "grid_auto_rows": null,
            "grid_column": null,
            "grid_gap": null,
            "grid_row": null,
            "grid_template_areas": null,
            "grid_template_columns": null,
            "grid_template_rows": null,
            "height": null,
            "justify_content": null,
            "justify_items": null,
            "left": null,
            "margin": null,
            "max_height": null,
            "max_width": null,
            "min_height": null,
            "min_width": null,
            "object_fit": null,
            "object_position": null,
            "order": null,
            "overflow": null,
            "overflow_x": null,
            "overflow_y": null,
            "padding": null,
            "right": null,
            "top": null,
            "visibility": null,
            "width": null
          }
        },
        "7893f42a9eaa4e03bf88ed2bf04bee03": {
          "model_module": "@jupyter-widgets/controls",
          "model_name": "ProgressStyleModel",
          "model_module_version": "1.5.0",
          "state": {
            "_model_module": "@jupyter-widgets/controls",
            "_model_module_version": "1.5.0",
            "_model_name": "ProgressStyleModel",
            "_view_count": null,
            "_view_module": "@jupyter-widgets/base",
            "_view_module_version": "1.2.0",
            "_view_name": "StyleView",
            "bar_color": null,
            "description_width": ""
          }
        },
        "41e037ba445e4f0c8ba52346a566fe90": {
          "model_module": "@jupyter-widgets/base",
          "model_name": "LayoutModel",
          "model_module_version": "1.2.0",
          "state": {
            "_model_module": "@jupyter-widgets/base",
            "_model_module_version": "1.2.0",
            "_model_name": "LayoutModel",
            "_view_count": null,
            "_view_module": "@jupyter-widgets/base",
            "_view_module_version": "1.2.0",
            "_view_name": "LayoutView",
            "align_content": null,
            "align_items": null,
            "align_self": null,
            "border": null,
            "bottom": null,
            "display": null,
            "flex": null,
            "flex_flow": null,
            "grid_area": null,
            "grid_auto_columns": null,
            "grid_auto_flow": null,
            "grid_auto_rows": null,
            "grid_column": null,
            "grid_gap": null,
            "grid_row": null,
            "grid_template_areas": null,
            "grid_template_columns": null,
            "grid_template_rows": null,
            "height": null,
            "justify_content": null,
            "justify_items": null,
            "left": null,
            "margin": null,
            "max_height": null,
            "max_width": null,
            "min_height": null,
            "min_width": null,
            "object_fit": null,
            "object_position": null,
            "order": null,
            "overflow": null,
            "overflow_x": null,
            "overflow_y": null,
            "padding": null,
            "right": null,
            "top": null,
            "visibility": null,
            "width": null
          }
        },
        "1f81743370684d15b52dd39fdc09da80": {
          "model_module": "@jupyter-widgets/controls",
          "model_name": "DescriptionStyleModel",
          "model_module_version": "1.5.0",
          "state": {
            "_model_module": "@jupyter-widgets/controls",
            "_model_module_version": "1.5.0",
            "_model_name": "DescriptionStyleModel",
            "_view_count": null,
            "_view_module": "@jupyter-widgets/base",
            "_view_module_version": "1.2.0",
            "_view_name": "StyleView",
            "description_width": ""
          }
        },
        "9d8ca870356d4e72ae9a0eeee26b9511": {
          "model_module": "@jupyter-widgets/controls",
          "model_name": "HBoxModel",
          "model_module_version": "1.5.0",
          "state": {
            "_dom_classes": [],
            "_model_module": "@jupyter-widgets/controls",
            "_model_module_version": "1.5.0",
            "_model_name": "HBoxModel",
            "_view_count": null,
            "_view_module": "@jupyter-widgets/controls",
            "_view_module_version": "1.5.0",
            "_view_name": "HBoxView",
            "box_style": "",
            "children": [
              "IPY_MODEL_5645b41832d348448978089881e70cd6",
              "IPY_MODEL_479546ddf7874bc5bcb913c83f323ac6",
              "IPY_MODEL_163b5055723f44838baea0b8583bc956"
            ],
            "layout": "IPY_MODEL_b28315a31f844979b5b944fd573a6355"
          }
        },
        "5645b41832d348448978089881e70cd6": {
          "model_module": "@jupyter-widgets/controls",
          "model_name": "HTMLModel",
          "model_module_version": "1.5.0",
          "state": {
            "_dom_classes": [],
            "_model_module": "@jupyter-widgets/controls",
            "_model_module_version": "1.5.0",
            "_model_name": "HTMLModel",
            "_view_count": null,
            "_view_module": "@jupyter-widgets/controls",
            "_view_module_version": "1.5.0",
            "_view_name": "HTMLView",
            "description": "",
            "description_tooltip": null,
            "layout": "IPY_MODEL_ca74aa8249b74bb588a4b85c585522fe",
            "placeholder": "​",
            "style": "IPY_MODEL_0d7ed5e341614287b8875e052d1cd9c9",
            "value": ""
          }
        },
        "479546ddf7874bc5bcb913c83f323ac6": {
          "model_module": "@jupyter-widgets/controls",
          "model_name": "FloatProgressModel",
          "model_module_version": "1.5.0",
          "state": {
            "_dom_classes": [],
            "_model_module": "@jupyter-widgets/controls",
            "_model_module_version": "1.5.0",
            "_model_name": "FloatProgressModel",
            "_view_count": null,
            "_view_module": "@jupyter-widgets/controls",
            "_view_module_version": "1.5.0",
            "_view_name": "ProgressView",
            "bar_style": "success",
            "description": "",
            "description_tooltip": null,
            "layout": "IPY_MODEL_21b2f301b629408e97128b914029a54a",
            "max": 1648877,
            "min": 0,
            "orientation": "horizontal",
            "style": "IPY_MODEL_625a8d8ca7d240eb85155a215d4b2e07",
            "value": 1648877
          }
        },
        "163b5055723f44838baea0b8583bc956": {
          "model_module": "@jupyter-widgets/controls",
          "model_name": "HTMLModel",
          "model_module_version": "1.5.0",
          "state": {
            "_dom_classes": [],
            "_model_module": "@jupyter-widgets/controls",
            "_model_module_version": "1.5.0",
            "_model_name": "HTMLModel",
            "_view_count": null,
            "_view_module": "@jupyter-widgets/controls",
            "_view_module_version": "1.5.0",
            "_view_name": "HTMLView",
            "description": "",
            "description_tooltip": null,
            "layout": "IPY_MODEL_cece579bd4534d81bd112d179381467d",
            "placeholder": "​",
            "style": "IPY_MODEL_d6a40d3d9e1d4328bbdfdc82b015ecce",
            "value": " 1649664/? [00:00&lt;00:00, 17510558.97it/s]"
          }
        },
        "b28315a31f844979b5b944fd573a6355": {
          "model_module": "@jupyter-widgets/base",
          "model_name": "LayoutModel",
          "model_module_version": "1.2.0",
          "state": {
            "_model_module": "@jupyter-widgets/base",
            "_model_module_version": "1.2.0",
            "_model_name": "LayoutModel",
            "_view_count": null,
            "_view_module": "@jupyter-widgets/base",
            "_view_module_version": "1.2.0",
            "_view_name": "LayoutView",
            "align_content": null,
            "align_items": null,
            "align_self": null,
            "border": null,
            "bottom": null,
            "display": null,
            "flex": null,
            "flex_flow": null,
            "grid_area": null,
            "grid_auto_columns": null,
            "grid_auto_flow": null,
            "grid_auto_rows": null,
            "grid_column": null,
            "grid_gap": null,
            "grid_row": null,
            "grid_template_areas": null,
            "grid_template_columns": null,
            "grid_template_rows": null,
            "height": null,
            "justify_content": null,
            "justify_items": null,
            "left": null,
            "margin": null,
            "max_height": null,
            "max_width": null,
            "min_height": null,
            "min_width": null,
            "object_fit": null,
            "object_position": null,
            "order": null,
            "overflow": null,
            "overflow_x": null,
            "overflow_y": null,
            "padding": null,
            "right": null,
            "top": null,
            "visibility": null,
            "width": null
          }
        },
        "ca74aa8249b74bb588a4b85c585522fe": {
          "model_module": "@jupyter-widgets/base",
          "model_name": "LayoutModel",
          "model_module_version": "1.2.0",
          "state": {
            "_model_module": "@jupyter-widgets/base",
            "_model_module_version": "1.2.0",
            "_model_name": "LayoutModel",
            "_view_count": null,
            "_view_module": "@jupyter-widgets/base",
            "_view_module_version": "1.2.0",
            "_view_name": "LayoutView",
            "align_content": null,
            "align_items": null,
            "align_self": null,
            "border": null,
            "bottom": null,
            "display": null,
            "flex": null,
            "flex_flow": null,
            "grid_area": null,
            "grid_auto_columns": null,
            "grid_auto_flow": null,
            "grid_auto_rows": null,
            "grid_column": null,
            "grid_gap": null,
            "grid_row": null,
            "grid_template_areas": null,
            "grid_template_columns": null,
            "grid_template_rows": null,
            "height": null,
            "justify_content": null,
            "justify_items": null,
            "left": null,
            "margin": null,
            "max_height": null,
            "max_width": null,
            "min_height": null,
            "min_width": null,
            "object_fit": null,
            "object_position": null,
            "order": null,
            "overflow": null,
            "overflow_x": null,
            "overflow_y": null,
            "padding": null,
            "right": null,
            "top": null,
            "visibility": null,
            "width": null
          }
        },
        "0d7ed5e341614287b8875e052d1cd9c9": {
          "model_module": "@jupyter-widgets/controls",
          "model_name": "DescriptionStyleModel",
          "model_module_version": "1.5.0",
          "state": {
            "_model_module": "@jupyter-widgets/controls",
            "_model_module_version": "1.5.0",
            "_model_name": "DescriptionStyleModel",
            "_view_count": null,
            "_view_module": "@jupyter-widgets/base",
            "_view_module_version": "1.2.0",
            "_view_name": "StyleView",
            "description_width": ""
          }
        },
        "21b2f301b629408e97128b914029a54a": {
          "model_module": "@jupyter-widgets/base",
          "model_name": "LayoutModel",
          "model_module_version": "1.2.0",
          "state": {
            "_model_module": "@jupyter-widgets/base",
            "_model_module_version": "1.2.0",
            "_model_name": "LayoutModel",
            "_view_count": null,
            "_view_module": "@jupyter-widgets/base",
            "_view_module_version": "1.2.0",
            "_view_name": "LayoutView",
            "align_content": null,
            "align_items": null,
            "align_self": null,
            "border": null,
            "bottom": null,
            "display": null,
            "flex": null,
            "flex_flow": null,
            "grid_area": null,
            "grid_auto_columns": null,
            "grid_auto_flow": null,
            "grid_auto_rows": null,
            "grid_column": null,
            "grid_gap": null,
            "grid_row": null,
            "grid_template_areas": null,
            "grid_template_columns": null,
            "grid_template_rows": null,
            "height": null,
            "justify_content": null,
            "justify_items": null,
            "left": null,
            "margin": null,
            "max_height": null,
            "max_width": null,
            "min_height": null,
            "min_width": null,
            "object_fit": null,
            "object_position": null,
            "order": null,
            "overflow": null,
            "overflow_x": null,
            "overflow_y": null,
            "padding": null,
            "right": null,
            "top": null,
            "visibility": null,
            "width": null
          }
        },
        "625a8d8ca7d240eb85155a215d4b2e07": {
          "model_module": "@jupyter-widgets/controls",
          "model_name": "ProgressStyleModel",
          "model_module_version": "1.5.0",
          "state": {
            "_model_module": "@jupyter-widgets/controls",
            "_model_module_version": "1.5.0",
            "_model_name": "ProgressStyleModel",
            "_view_count": null,
            "_view_module": "@jupyter-widgets/base",
            "_view_module_version": "1.2.0",
            "_view_name": "StyleView",
            "bar_color": null,
            "description_width": ""
          }
        },
        "cece579bd4534d81bd112d179381467d": {
          "model_module": "@jupyter-widgets/base",
          "model_name": "LayoutModel",
          "model_module_version": "1.2.0",
          "state": {
            "_model_module": "@jupyter-widgets/base",
            "_model_module_version": "1.2.0",
            "_model_name": "LayoutModel",
            "_view_count": null,
            "_view_module": "@jupyter-widgets/base",
            "_view_module_version": "1.2.0",
            "_view_name": "LayoutView",
            "align_content": null,
            "align_items": null,
            "align_self": null,
            "border": null,
            "bottom": null,
            "display": null,
            "flex": null,
            "flex_flow": null,
            "grid_area": null,
            "grid_auto_columns": null,
            "grid_auto_flow": null,
            "grid_auto_rows": null,
            "grid_column": null,
            "grid_gap": null,
            "grid_row": null,
            "grid_template_areas": null,
            "grid_template_columns": null,
            "grid_template_rows": null,
            "height": null,
            "justify_content": null,
            "justify_items": null,
            "left": null,
            "margin": null,
            "max_height": null,
            "max_width": null,
            "min_height": null,
            "min_width": null,
            "object_fit": null,
            "object_position": null,
            "order": null,
            "overflow": null,
            "overflow_x": null,
            "overflow_y": null,
            "padding": null,
            "right": null,
            "top": null,
            "visibility": null,
            "width": null
          }
        },
        "d6a40d3d9e1d4328bbdfdc82b015ecce": {
          "model_module": "@jupyter-widgets/controls",
          "model_name": "DescriptionStyleModel",
          "model_module_version": "1.5.0",
          "state": {
            "_model_module": "@jupyter-widgets/controls",
            "_model_module_version": "1.5.0",
            "_model_name": "DescriptionStyleModel",
            "_view_count": null,
            "_view_module": "@jupyter-widgets/base",
            "_view_module_version": "1.2.0",
            "_view_name": "StyleView",
            "description_width": ""
          }
        },
        "8a54ecb27bec4d4688516a814fc3418d": {
          "model_module": "@jupyter-widgets/controls",
          "model_name": "HBoxModel",
          "model_module_version": "1.5.0",
          "state": {
            "_dom_classes": [],
            "_model_module": "@jupyter-widgets/controls",
            "_model_module_version": "1.5.0",
            "_model_name": "HBoxModel",
            "_view_count": null,
            "_view_module": "@jupyter-widgets/controls",
            "_view_module_version": "1.5.0",
            "_view_name": "HBoxView",
            "box_style": "",
            "children": [
              "IPY_MODEL_04325fd9869c41d0bb33cbe5fe1a2e7f",
              "IPY_MODEL_3e79b891ea554526aabe297a08b8691b",
              "IPY_MODEL_2992eda8ebb548199eecdc785115fe02"
            ],
            "layout": "IPY_MODEL_b9e536847b8e4464afb3f52efc5b02e7"
          }
        },
        "04325fd9869c41d0bb33cbe5fe1a2e7f": {
          "model_module": "@jupyter-widgets/controls",
          "model_name": "HTMLModel",
          "model_module_version": "1.5.0",
          "state": {
            "_dom_classes": [],
            "_model_module": "@jupyter-widgets/controls",
            "_model_module_version": "1.5.0",
            "_model_name": "HTMLModel",
            "_view_count": null,
            "_view_module": "@jupyter-widgets/controls",
            "_view_module_version": "1.5.0",
            "_view_name": "HTMLView",
            "description": "",
            "description_tooltip": null,
            "layout": "IPY_MODEL_9aaae515d1ab46f38ca89f5743728256",
            "placeholder": "​",
            "style": "IPY_MODEL_bb734ed2da9a4feaaadb18725a4ad359",
            "value": ""
          }
        },
        "3e79b891ea554526aabe297a08b8691b": {
          "model_module": "@jupyter-widgets/controls",
          "model_name": "FloatProgressModel",
          "model_module_version": "1.5.0",
          "state": {
            "_dom_classes": [],
            "_model_module": "@jupyter-widgets/controls",
            "_model_module_version": "1.5.0",
            "_model_name": "FloatProgressModel",
            "_view_count": null,
            "_view_module": "@jupyter-widgets/controls",
            "_view_module_version": "1.5.0",
            "_view_name": "ProgressView",
            "bar_style": "success",
            "description": "",
            "description_tooltip": null,
            "layout": "IPY_MODEL_ea99df0f0ee94c1883f83461a918e768",
            "max": 4542,
            "min": 0,
            "orientation": "horizontal",
            "style": "IPY_MODEL_79e22e2182e6474996991686720578a3",
            "value": 4542
          }
        },
        "2992eda8ebb548199eecdc785115fe02": {
          "model_module": "@jupyter-widgets/controls",
          "model_name": "HTMLModel",
          "model_module_version": "1.5.0",
          "state": {
            "_dom_classes": [],
            "_model_module": "@jupyter-widgets/controls",
            "_model_module_version": "1.5.0",
            "_model_name": "HTMLModel",
            "_view_count": null,
            "_view_module": "@jupyter-widgets/controls",
            "_view_module_version": "1.5.0",
            "_view_name": "HTMLView",
            "description": "",
            "description_tooltip": null,
            "layout": "IPY_MODEL_f1dcfd8f6469407fb0ebc9ef2a6b2944",
            "placeholder": "​",
            "style": "IPY_MODEL_a2cd3dc34790465ba2813d48afcc8840",
            "value": " 5120/? [00:00&lt;00:00, 95173.00it/s]"
          }
        },
        "b9e536847b8e4464afb3f52efc5b02e7": {
          "model_module": "@jupyter-widgets/base",
          "model_name": "LayoutModel",
          "model_module_version": "1.2.0",
          "state": {
            "_model_module": "@jupyter-widgets/base",
            "_model_module_version": "1.2.0",
            "_model_name": "LayoutModel",
            "_view_count": null,
            "_view_module": "@jupyter-widgets/base",
            "_view_module_version": "1.2.0",
            "_view_name": "LayoutView",
            "align_content": null,
            "align_items": null,
            "align_self": null,
            "border": null,
            "bottom": null,
            "display": null,
            "flex": null,
            "flex_flow": null,
            "grid_area": null,
            "grid_auto_columns": null,
            "grid_auto_flow": null,
            "grid_auto_rows": null,
            "grid_column": null,
            "grid_gap": null,
            "grid_row": null,
            "grid_template_areas": null,
            "grid_template_columns": null,
            "grid_template_rows": null,
            "height": null,
            "justify_content": null,
            "justify_items": null,
            "left": null,
            "margin": null,
            "max_height": null,
            "max_width": null,
            "min_height": null,
            "min_width": null,
            "object_fit": null,
            "object_position": null,
            "order": null,
            "overflow": null,
            "overflow_x": null,
            "overflow_y": null,
            "padding": null,
            "right": null,
            "top": null,
            "visibility": null,
            "width": null
          }
        },
        "9aaae515d1ab46f38ca89f5743728256": {
          "model_module": "@jupyter-widgets/base",
          "model_name": "LayoutModel",
          "model_module_version": "1.2.0",
          "state": {
            "_model_module": "@jupyter-widgets/base",
            "_model_module_version": "1.2.0",
            "_model_name": "LayoutModel",
            "_view_count": null,
            "_view_module": "@jupyter-widgets/base",
            "_view_module_version": "1.2.0",
            "_view_name": "LayoutView",
            "align_content": null,
            "align_items": null,
            "align_self": null,
            "border": null,
            "bottom": null,
            "display": null,
            "flex": null,
            "flex_flow": null,
            "grid_area": null,
            "grid_auto_columns": null,
            "grid_auto_flow": null,
            "grid_auto_rows": null,
            "grid_column": null,
            "grid_gap": null,
            "grid_row": null,
            "grid_template_areas": null,
            "grid_template_columns": null,
            "grid_template_rows": null,
            "height": null,
            "justify_content": null,
            "justify_items": null,
            "left": null,
            "margin": null,
            "max_height": null,
            "max_width": null,
            "min_height": null,
            "min_width": null,
            "object_fit": null,
            "object_position": null,
            "order": null,
            "overflow": null,
            "overflow_x": null,
            "overflow_y": null,
            "padding": null,
            "right": null,
            "top": null,
            "visibility": null,
            "width": null
          }
        },
        "bb734ed2da9a4feaaadb18725a4ad359": {
          "model_module": "@jupyter-widgets/controls",
          "model_name": "DescriptionStyleModel",
          "model_module_version": "1.5.0",
          "state": {
            "_model_module": "@jupyter-widgets/controls",
            "_model_module_version": "1.5.0",
            "_model_name": "DescriptionStyleModel",
            "_view_count": null,
            "_view_module": "@jupyter-widgets/base",
            "_view_module_version": "1.2.0",
            "_view_name": "StyleView",
            "description_width": ""
          }
        },
        "ea99df0f0ee94c1883f83461a918e768": {
          "model_module": "@jupyter-widgets/base",
          "model_name": "LayoutModel",
          "model_module_version": "1.2.0",
          "state": {
            "_model_module": "@jupyter-widgets/base",
            "_model_module_version": "1.2.0",
            "_model_name": "LayoutModel",
            "_view_count": null,
            "_view_module": "@jupyter-widgets/base",
            "_view_module_version": "1.2.0",
            "_view_name": "LayoutView",
            "align_content": null,
            "align_items": null,
            "align_self": null,
            "border": null,
            "bottom": null,
            "display": null,
            "flex": null,
            "flex_flow": null,
            "grid_area": null,
            "grid_auto_columns": null,
            "grid_auto_flow": null,
            "grid_auto_rows": null,
            "grid_column": null,
            "grid_gap": null,
            "grid_row": null,
            "grid_template_areas": null,
            "grid_template_columns": null,
            "grid_template_rows": null,
            "height": null,
            "justify_content": null,
            "justify_items": null,
            "left": null,
            "margin": null,
            "max_height": null,
            "max_width": null,
            "min_height": null,
            "min_width": null,
            "object_fit": null,
            "object_position": null,
            "order": null,
            "overflow": null,
            "overflow_x": null,
            "overflow_y": null,
            "padding": null,
            "right": null,
            "top": null,
            "visibility": null,
            "width": null
          }
        },
        "79e22e2182e6474996991686720578a3": {
          "model_module": "@jupyter-widgets/controls",
          "model_name": "ProgressStyleModel",
          "model_module_version": "1.5.0",
          "state": {
            "_model_module": "@jupyter-widgets/controls",
            "_model_module_version": "1.5.0",
            "_model_name": "ProgressStyleModel",
            "_view_count": null,
            "_view_module": "@jupyter-widgets/base",
            "_view_module_version": "1.2.0",
            "_view_name": "StyleView",
            "bar_color": null,
            "description_width": ""
          }
        },
        "f1dcfd8f6469407fb0ebc9ef2a6b2944": {
          "model_module": "@jupyter-widgets/base",
          "model_name": "LayoutModel",
          "model_module_version": "1.2.0",
          "state": {
            "_model_module": "@jupyter-widgets/base",
            "_model_module_version": "1.2.0",
            "_model_name": "LayoutModel",
            "_view_count": null,
            "_view_module": "@jupyter-widgets/base",
            "_view_module_version": "1.2.0",
            "_view_name": "LayoutView",
            "align_content": null,
            "align_items": null,
            "align_self": null,
            "border": null,
            "bottom": null,
            "display": null,
            "flex": null,
            "flex_flow": null,
            "grid_area": null,
            "grid_auto_columns": null,
            "grid_auto_flow": null,
            "grid_auto_rows": null,
            "grid_column": null,
            "grid_gap": null,
            "grid_row": null,
            "grid_template_areas": null,
            "grid_template_columns": null,
            "grid_template_rows": null,
            "height": null,
            "justify_content": null,
            "justify_items": null,
            "left": null,
            "margin": null,
            "max_height": null,
            "max_width": null,
            "min_height": null,
            "min_width": null,
            "object_fit": null,
            "object_position": null,
            "order": null,
            "overflow": null,
            "overflow_x": null,
            "overflow_y": null,
            "padding": null,
            "right": null,
            "top": null,
            "visibility": null,
            "width": null
          }
        },
        "a2cd3dc34790465ba2813d48afcc8840": {
          "model_module": "@jupyter-widgets/controls",
          "model_name": "DescriptionStyleModel",
          "model_module_version": "1.5.0",
          "state": {
            "_model_module": "@jupyter-widgets/controls",
            "_model_module_version": "1.5.0",
            "_model_name": "DescriptionStyleModel",
            "_view_count": null,
            "_view_module": "@jupyter-widgets/base",
            "_view_module_version": "1.2.0",
            "_view_name": "StyleView",
            "description_width": ""
          }
        }
      }
    }
  },
  "cells": [
    {
      "cell_type": "markdown",
      "metadata": {
        "id": "view-in-github",
        "colab_type": "text"
      },
      "source": [
        "<a href=\"https://colab.research.google.com/github/TBlair24/Introduction-to-pytorch/blob/test/intro-to-pytorch/2_neural_networks.ipynb\" target=\"_parent\"><img src=\"https://colab.research.google.com/assets/colab-badge.svg\" alt=\"Open In Colab\"/></a>"
      ]
    },
    {
      "cell_type": "code",
      "execution_count": null,
      "metadata": {
        "id": "8hnm_RmreVoW"
      },
      "outputs": [],
      "source": [
        ""
      ]
    },
    {
      "cell_type": "markdown",
      "source": [
        "# Neural networks with PyTorch\n",
        "\n",
        "Deep learning networks tend to be massive with dozens or hundreds of layers, that's where the term \"deep\" comes from. You can build one of these deep networks using only weight matrices as we did in the previous notebook, but in general it's very cumbersome and difficult to implement. PyTorch has a nice module `nn` that provides a nice way to efficiently build large neural networks."
      ],
      "metadata": {
        "id": "lkOd_5tKebNj"
      }
    },
    {
      "cell_type": "code",
      "source": [
        "# Import necessary packages\n",
        "\n",
        "%matplotlib inline\n",
        "%config InlineBackend.figure_format = 'retina'\n",
        "\n",
        "import numpy as np\n",
        "import torch\n",
        "\n",
        "import helper\n",
        "\n",
        "import matplotlib.pyplot as plt"
      ],
      "metadata": {
        "id": "zT8zqfa9ehA5"
      },
      "execution_count": 1,
      "outputs": []
    },
    {
      "cell_type": "markdown",
      "source": [
        "\n",
        "Now we're going to build a larger network that can solve a (formerly) difficult problem, identifying text in an image. Here we'll use the MNIST dataset which consists of greyscale handwritten digits. Each image is 28x28 pixels, you can see a sample below\n",
        "\n",
        "<img src='assets/mnist.png'>\n",
        "\n",
        "Our goal is to build a neural network that can take one of these images and predict the digit in the image.\n",
        "\n",
        "First up, we need to get our dataset. This is provided through the `torchvision` package. The code below will download the MNIST dataset, then create training and test datasets for us. Don't worry too much about the details here, you'll learn more about this later."
      ],
      "metadata": {
        "id": "sB2DrzN9etZF"
      }
    },
    {
      "cell_type": "code",
      "source": [
        "# The MNIST datasets are hosted on yann.lecun.com that has moved under CloudFlare protection\n",
        "# Run this script to enable the datasets download\n",
        "# Reference: https://github.com/pytorch/vision/issues/1938\n",
        "\n",
        "from six.moves import urllib\n",
        "opener = urllib.request.build_opener()\n",
        "opener.addheaders = [('User-agent', 'Mozilla/5.0')]\n",
        "urllib.request.install_opener(opener)"
      ],
      "metadata": {
        "id": "_CicrUbuezVQ"
      },
      "execution_count": 2,
      "outputs": []
    },
    {
      "cell_type": "code",
      "source": [
        "### Run this cell\n",
        "\n",
        "from torchvision import datasets, transforms\n",
        "\n",
        "# Define a transform to normalize the data\n",
        "transform = transforms.Compose([transforms.ToTensor(),\n",
        "                              transforms.Normalize((0.5,), (0.5,)),\n",
        "                              ])\n",
        "# Download and load the training data\n",
        "trainset = datasets.MNIST('~/.pytorch/MNIST_data/', download=True, train=True, transform=transform)\n",
        "trainloader = torch.utils.data.DataLoader(trainset, batch_size=64, shuffle=True)"
      ],
      "metadata": {
        "colab": {
          "base_uri": "https://localhost:8080/",
          "height": 437,
          "referenced_widgets": [
            "bb53270b368840049d3336535fc59a4e",
            "7b6e0e8fb072471dacf46b66ad0282a5",
            "5351d7e37cfe44d191eea4112c1a432d",
            "0e4713c5eab34d8a96fe6522719e3e34",
            "b1e0bbc011fc43e4a91bedc898bca453",
            "e70391bf6bb54c9793ed23aeaae9854d",
            "c2011866fdd541c99c1d4501513e311b",
            "cd849afbeb894bd5999a5b190f3e8aa7",
            "fa27a603f2424668ae395979fc982464",
            "4be4bf2e07a74c428a55ccb6f890a443",
            "2c843190542e4c47acec79f860047045",
            "ce7b6c0806614ef09e14166f4353dfd9",
            "9a20f36f940742a4b0afa7a398d3f6ff",
            "2666bd6135d64c02bf7038ec10f74361",
            "4c4848fc9c1b4e8a974daee24f281ee5",
            "398a581403224128826440b363a24a5c",
            "6494ca7cb0bd4841ae04252ee860869a",
            "7010a28d37c24081a5fa3ff88c11f545",
            "2237f9b94ae547689cffce202c6f868d",
            "7893f42a9eaa4e03bf88ed2bf04bee03",
            "41e037ba445e4f0c8ba52346a566fe90",
            "1f81743370684d15b52dd39fdc09da80",
            "9d8ca870356d4e72ae9a0eeee26b9511",
            "5645b41832d348448978089881e70cd6",
            "479546ddf7874bc5bcb913c83f323ac6",
            "163b5055723f44838baea0b8583bc956",
            "b28315a31f844979b5b944fd573a6355",
            "ca74aa8249b74bb588a4b85c585522fe",
            "0d7ed5e341614287b8875e052d1cd9c9",
            "21b2f301b629408e97128b914029a54a",
            "625a8d8ca7d240eb85155a215d4b2e07",
            "cece579bd4534d81bd112d179381467d",
            "d6a40d3d9e1d4328bbdfdc82b015ecce",
            "8a54ecb27bec4d4688516a814fc3418d",
            "04325fd9869c41d0bb33cbe5fe1a2e7f",
            "3e79b891ea554526aabe297a08b8691b",
            "2992eda8ebb548199eecdc785115fe02",
            "b9e536847b8e4464afb3f52efc5b02e7",
            "9aaae515d1ab46f38ca89f5743728256",
            "bb734ed2da9a4feaaadb18725a4ad359",
            "ea99df0f0ee94c1883f83461a918e768",
            "79e22e2182e6474996991686720578a3",
            "f1dcfd8f6469407fb0ebc9ef2a6b2944",
            "a2cd3dc34790465ba2813d48afcc8840"
          ]
        },
        "id": "8vtAasige7Wg",
        "outputId": "f0c3acb9-d37e-480d-95e7-45da09b6e6b1"
      },
      "execution_count": 3,
      "outputs": [
        {
          "output_type": "stream",
          "name": "stdout",
          "text": [
            "Downloading http://yann.lecun.com/exdb/mnist/train-images-idx3-ubyte.gz\n",
            "Downloading http://yann.lecun.com/exdb/mnist/train-images-idx3-ubyte.gz to /root/.pytorch/MNIST_data/MNIST/raw/train-images-idx3-ubyte.gz\n"
          ]
        },
        {
          "output_type": "display_data",
          "data": {
            "text/plain": [
              "  0%|          | 0/9912422 [00:00<?, ?it/s]"
            ],
            "application/vnd.jupyter.widget-view+json": {
              "version_major": 2,
              "version_minor": 0,
              "model_id": "bb53270b368840049d3336535fc59a4e"
            }
          },
          "metadata": {}
        },
        {
          "output_type": "stream",
          "name": "stdout",
          "text": [
            "Extracting /root/.pytorch/MNIST_data/MNIST/raw/train-images-idx3-ubyte.gz to /root/.pytorch/MNIST_data/MNIST/raw\n",
            "\n",
            "Downloading http://yann.lecun.com/exdb/mnist/train-labels-idx1-ubyte.gz\n",
            "Downloading http://yann.lecun.com/exdb/mnist/train-labels-idx1-ubyte.gz to /root/.pytorch/MNIST_data/MNIST/raw/train-labels-idx1-ubyte.gz\n"
          ]
        },
        {
          "output_type": "display_data",
          "data": {
            "text/plain": [
              "  0%|          | 0/28881 [00:00<?, ?it/s]"
            ],
            "application/vnd.jupyter.widget-view+json": {
              "version_major": 2,
              "version_minor": 0,
              "model_id": "ce7b6c0806614ef09e14166f4353dfd9"
            }
          },
          "metadata": {}
        },
        {
          "output_type": "stream",
          "name": "stdout",
          "text": [
            "Extracting /root/.pytorch/MNIST_data/MNIST/raw/train-labels-idx1-ubyte.gz to /root/.pytorch/MNIST_data/MNIST/raw\n",
            "\n",
            "Downloading http://yann.lecun.com/exdb/mnist/t10k-images-idx3-ubyte.gz\n",
            "Downloading http://yann.lecun.com/exdb/mnist/t10k-images-idx3-ubyte.gz to /root/.pytorch/MNIST_data/MNIST/raw/t10k-images-idx3-ubyte.gz\n"
          ]
        },
        {
          "output_type": "display_data",
          "data": {
            "text/plain": [
              "  0%|          | 0/1648877 [00:00<?, ?it/s]"
            ],
            "application/vnd.jupyter.widget-view+json": {
              "version_major": 2,
              "version_minor": 0,
              "model_id": "9d8ca870356d4e72ae9a0eeee26b9511"
            }
          },
          "metadata": {}
        },
        {
          "output_type": "stream",
          "name": "stdout",
          "text": [
            "Extracting /root/.pytorch/MNIST_data/MNIST/raw/t10k-images-idx3-ubyte.gz to /root/.pytorch/MNIST_data/MNIST/raw\n",
            "\n",
            "Downloading http://yann.lecun.com/exdb/mnist/t10k-labels-idx1-ubyte.gz\n",
            "Downloading http://yann.lecun.com/exdb/mnist/t10k-labels-idx1-ubyte.gz to /root/.pytorch/MNIST_data/MNIST/raw/t10k-labels-idx1-ubyte.gz\n"
          ]
        },
        {
          "output_type": "display_data",
          "data": {
            "text/plain": [
              "  0%|          | 0/4542 [00:00<?, ?it/s]"
            ],
            "application/vnd.jupyter.widget-view+json": {
              "version_major": 2,
              "version_minor": 0,
              "model_id": "8a54ecb27bec4d4688516a814fc3418d"
            }
          },
          "metadata": {}
        },
        {
          "output_type": "stream",
          "name": "stdout",
          "text": [
            "Extracting /root/.pytorch/MNIST_data/MNIST/raw/t10k-labels-idx1-ubyte.gz to /root/.pytorch/MNIST_data/MNIST/raw\n",
            "\n"
          ]
        }
      ]
    },
    {
      "cell_type": "code",
      "source": [
        ""
      ],
      "metadata": {
        "id": "y-x3nZ5cfFeM"
      },
      "execution_count": null,
      "outputs": []
    },
    {
      "cell_type": "markdown",
      "source": [
        "We have the training data loaded into `trainloader` and we make that an iterator with `iter(trainloader)`. Later, we'll use this to loop through the dataset for training, like\n",
        "\n",
        "```python\n",
        "for image, label in trainloader:\n",
        "    ## do things with images and labels\n",
        "```\n",
        "\n",
        "You'll notice I created the `trainloader` with a batch size of 64, and `shuffle=True`. The batch size is the number of images we get in one iteration from the data loader and pass through our network, often called a *batch*. And `shuffle=True` tells it to shuffle the dataset every time we start going through the data loader again. But here I'm just grabbing the first batch so we can check out the data. We can see below that `images` is just a tensor with size `(64, 1, 28, 28)`. So, 64 images per batch, 1 color channel, and 28x28 images."
      ],
      "metadata": {
        "id": "RIjnPhlafNqZ"
      }
    },
    {
      "cell_type": "code",
      "source": [
        "dataiter = iter(trainloader)\n",
        "images, labels = dataiter.next()\n",
        "print(type(images))\n",
        "print(images.shape)\n",
        "print(labels.shape)"
      ],
      "metadata": {
        "colab": {
          "base_uri": "https://localhost:8080/"
        },
        "id": "ky-sKpMUfP2d",
        "outputId": "7e0058c3-f9f5-4dd3-dd19-53ce920c56d9"
      },
      "execution_count": 4,
      "outputs": [
        {
          "output_type": "stream",
          "name": "stdout",
          "text": [
            "<class 'torch.Tensor'>\n",
            "torch.Size([64, 1, 28, 28])\n",
            "torch.Size([64])\n"
          ]
        }
      ]
    },
    {
      "cell_type": "code",
      "source": [
        "plt.imshow(images[1].numpy().squeeze(), cmap='Greys_r');"
      ],
      "metadata": {
        "colab": {
          "base_uri": "https://localhost:8080/",
          "height": 265
        },
        "id": "piH-s6wefqLO",
        "outputId": "8476e8b4-74ce-494e-9efa-42e56c0f663d"
      },
      "execution_count": 6,
      "outputs": [
        {
          "output_type": "display_data",
          "data": {
            "text/plain": [
              "<Figure size 432x288 with 1 Axes>"
            ],
            "image/png": "[encoded data removed]"
          },
          "metadata": {
            "image/png": {
              "width": 251,
              "height": 248
            },
            "needs_background": "light"
          }
        }
      ]
    },
    {
      "cell_type": "markdown",
      "source": [
        "First, let's try to build a simple network for this dataset using weight matrices and matrix multiplications. Then, we'll see how to do it using PyTorch's `nn` module which provides a much more convenient and powerful method for defining network architectures.\n",
        "\n",
        "The networks you've seen so far are called *fully-connected* or *dense* networks. Each unit in one layer is connected to each unit in the next layer. In fully-connected networks, the input to each layer must be a one-dimensional vector (which can be stacked into a 2D tensor as a batch of multiple examples). However, our images are 28x28 2D tensors, so we need to convert them into 1D vectors. Thinking about sizes, we need to convert the batch of images with shape `(64, 1, 28, 28)` to a have a shape of `(64, 784)`, 784 is 28 times 28. This is typically called *flattening*, we flattened the 2D images into 1D vectors.\n",
        "\n",
        "Previously you built a network with one output unit. Here we need 10 output units, one for each digit. We want our network to predict the digit shown in an image, so what we'll do is calculate probabilities that the image is of any one digit or class. This ends up being a discrete probability distribution over the classes (digits) that tells us the most likely class for the image. That means we need 10 output units for the 10 classes (digits). We'll see how to convert the network output into a probability distribution next.\n",
        "\n",
        "> **Exercise:** Flatten the batch of images `images`. Then build a multi-layer network with 784 input units, 256 hidden units, and 10 output units using random tensors for the weights and biases. For now, use a sigmoid activation for the hidden layer. Leave the output layer without an activation, we'll add one that gives us a probability distribution next."
      ],
      "metadata": {
        "id": "VGIfyeSpgNYk"
      }
    },
    {
      "cell_type": "code",
      "source": [
        "# activation function\n",
        "def activation(x):\n",
        "  return 1/(1 + torch.exp(-x))\n",
        "\n",
        "# flatten the input images\n",
        "inputs = images.view(images.shape[0], -1)\n",
        "\n",
        "# create parameters\n",
        "W1 = torch.randn(784,256)\n",
        "B1 = torch.randn(256)\n",
        "\n",
        "W2 = torch.randn(256,10)\n",
        "B2 = torch.randn(10)"
      ],
      "metadata": {
        "id": "L6Ga4TG5goL5"
      },
      "execution_count": 11,
      "outputs": []
    },
    {
      "cell_type": "code",
      "source": [
        "h = activation(torch.mm(inputs, W1) + B1)"
      ],
      "metadata": {
        "id": "V_JVdgU1irqO"
      },
      "execution_count": 12,
      "outputs": []
    },
    {
      "cell_type": "code",
      "source": [
        "output = torch.mm(h, W2) + B2"
      ],
      "metadata": {
        "id": "Y4oFcV4QjPQg"
      },
      "execution_count": 15,
      "outputs": []
    },
    {
      "cell_type": "code",
      "source": [
        "output"
      ],
      "metadata": {
        "colab": {
          "base_uri": "https://localhost:8080/"
        },
        "id": "YqcKpZjvjdMD",
        "outputId": "c53fed52-a60b-4e7a-a446-fa60fdfac79d"
      },
      "execution_count": 16,
      "outputs": [
        {
          "output_type": "execute_result",
          "data": {
            "text/plain": [
              "tensor([[ 1.2748e+00,  6.8737e+00, -1.4720e+01,  8.5760e+00, -3.7939e+00,\n",
              "         -9.0279e+00,  4.1978e+00,  8.2107e+00, -1.0351e+01,  1.4283e+01],\n",
              "        [-7.8861e+00,  3.6901e+00, -2.9645e+01,  1.6812e+01,  9.6258e+00,\n",
              "         -6.3774e+00, -1.2625e+01, -2.5975e+00,  3.4127e+00,  1.8324e+01],\n",
              "        [-1.1542e+01,  7.5211e+00, -2.4012e+01,  8.7531e+00, -5.6539e+00,\n",
              "         -1.8750e+00, -2.3510e+00,  2.4871e+00, -3.5356e+00,  1.1268e+01],\n",
              "        [-7.1696e+00,  3.4980e+00, -1.8297e+01,  1.3457e+01, -5.0329e+00,\n",
              "         -8.2664e+00, -3.1651e+00, -5.2205e+00,  6.9032e+00,  1.6850e+01],\n",
              "        [-9.9617e+00,  4.6983e+00, -1.4794e+01,  5.6352e+00,  4.2428e+00,\n",
              "         -1.0669e+01, -8.0667e+00, -8.8139e+00,  1.0444e+01,  1.0666e+01],\n",
              "        [-7.8620e+00,  1.2256e+00, -2.2130e+01,  1.6753e+01,  2.6887e+00,\n",
              "         -1.0032e+01, -7.9677e+00, -5.3613e+00,  6.3047e+00,  1.3862e+01],\n",
              "        [ 2.5746e+00,  3.9269e+00, -2.6193e+01,  1.0676e+01,  8.5899e+00,\n",
              "         -1.0948e+01, -2.2653e+00, -3.5606e-02,  4.8810e+00,  1.0965e+01],\n",
              "        [-4.3827e+00,  1.2053e-01, -1.9811e+01,  8.2709e+00, -1.0609e+00,\n",
              "         -4.4222e+00, -9.8740e+00, -9.6271e+00, -2.2043e+00,  1.7516e+01],\n",
              "        [-1.5606e+00,  4.7929e+00, -1.9884e+01,  2.6902e+00, -1.2972e+00,\n",
              "         -1.1662e+01, -1.0671e+01, -3.2645e+00,  3.8179e+00,  1.4183e+01],\n",
              "        [-9.6923e+00,  2.5194e+00, -1.6428e+01,  7.8456e+00, -3.1405e+00,\n",
              "         -6.1287e+00, -1.5146e+01, -7.5009e+00,  1.2935e+00,  8.0281e+00],\n",
              "        [ 2.9570e+00, -5.2045e+00, -1.7918e+01,  9.6612e+00,  4.6804e+00,\n",
              "         -1.2065e+01, -8.0549e+00, -9.6055e-01,  5.0047e-01,  8.9426e+00],\n",
              "        [-4.8864e+00,  6.5626e-01, -2.2483e+01,  4.6097e+00,  4.4165e+00,\n",
              "         -5.6643e+00, -3.8754e+00, -5.1114e+00, -1.8082e+00,  1.0735e+01],\n",
              "        [-6.2388e+00, -9.7035e-01, -1.8307e+01,  1.0505e+01, -2.8634e+00,\n",
              "         -1.2654e+01, -3.9440e+00, -6.8730e+00,  5.7242e+00,  1.4144e+01],\n",
              "        [-6.0949e+00,  4.8559e+00, -1.0722e+01,  7.9608e+00, -1.4371e+00,\n",
              "         -1.1169e+01, -1.2583e+01, -3.1402e+00, -1.0633e+00,  1.2731e+01],\n",
              "        [-3.8015e+00, -2.3054e+00, -2.2858e+01,  2.0061e+01,  9.4122e+00,\n",
              "         -8.1743e+00, -9.4022e+00,  4.5693e+00,  2.9164e+00,  1.7454e+01],\n",
              "        [ 1.5771e+00,  7.3880e+00, -2.6517e+01,  1.5602e+01,  1.2485e+01,\n",
              "         -7.2820e+00, -1.1124e+01, -1.3978e+01, -9.8987e+00,  8.4420e+00],\n",
              "        [-1.4317e-01,  5.3803e-01, -2.1785e+01,  8.1576e+00, -3.1315e+00,\n",
              "         -9.1552e+00, -1.0389e+01, -6.7251e+00,  2.1668e+00,  1.3402e+01],\n",
              "        [-5.4054e+00,  5.7930e+00, -2.2540e+01,  8.5511e+00,  8.5541e+00,\n",
              "         -1.5624e+01, -5.5454e+00, -1.0124e+00,  4.6559e+00,  1.9186e+01],\n",
              "        [ 6.9107e+00,  5.2027e+00, -1.8909e+01,  3.5494e+00,  1.3186e+00,\n",
              "         -1.0853e+01, -3.7263e+00,  5.2516e+00, -1.2689e+00,  1.7641e+01],\n",
              "        [-2.8455e+00,  6.4809e+00, -1.1831e+01,  6.5843e+00,  3.9241e+00,\n",
              "         -1.7713e+01, -8.6213e+00, -8.6117e+00,  7.7953e+00,  8.9546e+00],\n",
              "        [-1.5553e+00, -8.7194e-03, -2.9376e+01,  2.9167e+00,  5.3409e+00,\n",
              "         -1.0493e+01, -9.9047e+00, -3.9102e+00,  1.3692e+01,  1.9960e+01],\n",
              "        [-3.8859e+00,  2.1184e+00, -2.1748e+01,  3.5489e+00,  4.6820e+00,\n",
              "         -1.3398e+01, -1.8755e-01, -5.3159e+00, -3.2021e+00,  1.5058e+01],\n",
              "        [-3.9905e+00,  3.3133e+00, -1.9100e+01,  7.7922e+00, -1.4924e+00,\n",
              "         -1.3158e+01, -2.1560e+01, -7.7388e+00,  7.7849e+00,  2.1950e+01],\n",
              "        [ 4.6016e+00,  6.6030e+00, -2.4760e+01,  8.6385e+00, -9.2304e-01,\n",
              "         -7.9246e+00, -1.9361e+01,  2.4002e+00,  2.3682e+00,  1.2494e+01],\n",
              "        [-2.9388e+00,  1.5545e+00, -1.8901e+01,  1.8296e+01, -1.8972e+00,\n",
              "         -1.2022e+01,  2.3268e-01, -1.6625e+00,  3.8695e+00,  8.8374e+00],\n",
              "        [-1.6252e+00,  4.6051e+00, -2.6820e+01,  1.8502e+01,  5.1100e-01,\n",
              "         -8.4105e+00, -8.6026e+00, -5.0614e+00,  1.1759e+01,  1.4866e+01],\n",
              "        [-1.5141e+01,  9.7502e-01, -9.6760e+00,  1.8979e+00,  1.7538e+00,\n",
              "         -1.1376e+01, -1.0812e+01,  3.3023e-01,  6.4891e+00,  1.6763e+01],\n",
              "        [ 1.7243e+00,  7.0037e+00, -2.2112e+01,  3.0190e+00,  6.6772e+00,\n",
              "         -1.0655e+01, -1.5702e+01, -1.8845e+00,  2.0622e+00,  1.2883e+01],\n",
              "        [-4.2149e+00, -8.7489e-01, -2.3409e+01, -1.0093e+00,  8.1849e+00,\n",
              "         -1.1262e+01, -2.6887e+00, -3.5632e+00,  1.4683e-01,  2.0593e+01],\n",
              "        [-5.0454e+00, -3.4964e-01, -1.7819e+01, -1.2547e+00,  2.4093e+00,\n",
              "         -7.7388e+00, -1.4741e+01, -6.7565e+00,  2.8732e+00,  1.2539e+01],\n",
              "        [-2.2657e+00,  4.1721e+00, -1.8887e+01,  1.2236e+01,  1.9487e+00,\n",
              "         -8.6565e+00, -4.7301e+00, -2.4195e+00,  2.5285e+00,  1.5249e+01],\n",
              "        [-4.3264e+00,  4.8701e+00, -2.1416e+01,  1.1616e+01,  3.5578e+00,\n",
              "         -1.1919e+01, -9.6490e+00, -9.9055e+00,  8.4740e+00,  1.6371e+01],\n",
              "        [-2.8166e+00, -6.3440e-02, -1.3454e+01,  1.7952e+01, -3.9219e+00,\n",
              "         -1.3751e+01, -9.1806e+00, -2.1473e+00,  6.6884e+00,  9.8351e+00],\n",
              "        [-1.3038e+01, -1.7945e+00, -1.6099e+01,  1.0689e+01,  8.0785e+00,\n",
              "         -1.2487e+01, -9.5779e+00, -1.7256e+01, -3.5777e-01,  9.8199e+00],\n",
              "        [-8.8040e+00, -5.1443e+00, -2.1536e+01,  3.8273e+00,  1.6198e+01,\n",
              "         -7.5281e+00, -1.5480e+01, -1.6142e+01,  7.3555e+00,  9.0594e+00],\n",
              "        [-1.2487e+01,  2.4243e+00, -1.8784e+01,  1.1001e+01,  4.5388e+00,\n",
              "         -8.1676e+00, -1.3331e+01, -8.0763e+00, -2.3872e+00,  1.5211e+01],\n",
              "        [-3.1421e+00,  7.1699e+00, -1.6797e+01,  1.1642e+01,  3.1680e+00,\n",
              "         -1.4839e+01, -1.2977e+00, -1.0519e+01,  7.4686e+00,  1.4244e+01],\n",
              "        [-3.0868e+00,  6.3242e+00, -2.0146e+01,  9.6096e+00, -9.0787e-01,\n",
              "         -1.3240e+01, -3.6904e+00, -2.5506e+00,  6.2936e+00,  1.5022e+01],\n",
              "        [ 7.1779e-01, -1.1770e+00, -1.8463e+01,  1.7936e+01,  7.3415e+00,\n",
              "         -1.2957e+01, -1.9889e+01, -1.5154e+00,  5.4231e+00,  1.6287e+01],\n",
              "        [-4.3466e+00,  7.0624e+00, -2.2989e+01,  5.8874e+00, -3.2915e-01,\n",
              "         -1.6154e+01, -1.1000e+01,  4.3661e+00,  4.5391e+00,  7.3077e+00],\n",
              "        [-1.0198e+00,  4.1337e-01, -2.3537e+01,  1.1619e+01,  1.0275e+00,\n",
              "         -8.4857e+00, -6.1483e+00, -1.3341e+00,  1.4809e+00,  1.4840e+01],\n",
              "        [ 5.2775e+00,  4.9032e+00, -2.6399e+01,  6.0686e-01,  3.2482e+00,\n",
              "         -1.6296e+01, -1.0917e+00,  1.6530e+00, -4.1699e+00,  1.5834e+01],\n",
              "        [-2.1613e+01, -3.4943e+00, -2.8694e+01, -8.1781e+00,  4.7944e+00,\n",
              "          2.0414e+00, -6.9343e+00,  1.1638e+00,  6.2622e+00,  2.2452e+01],\n",
              "        [-1.4714e+01,  8.6608e+00, -1.7873e+01,  7.8620e+00,  8.7382e+00,\n",
              "         -1.3892e+01, -8.3751e+00, -8.9897e+00,  7.9524e+00,  1.0053e+01],\n",
              "        [-8.3487e+00,  2.1025e+00, -1.6534e+01,  3.7912e+00,  6.8195e+00,\n",
              "         -7.2448e+00, -5.1926e+00,  9.1051e+00,  2.0978e+00,  1.4779e+01],\n",
              "        [-5.7664e+00,  2.9966e-01, -1.1155e+01,  1.4136e+01, -3.4867e+00,\n",
              "         -1.1181e+01, -7.8483e+00, -3.7283e+00,  6.0619e+00,  1.0750e+01],\n",
              "        [-9.7676e+00,  2.2483e+00, -2.3790e+01, -3.0603e+00,  1.1306e+01,\n",
              "         -1.1103e+01, -9.0979e+00, -1.1968e+01,  3.0284e+00,  2.1727e+01],\n",
              "        [ 5.7573e+00,  5.7348e+00, -2.0252e+01,  1.3573e+00, -2.9176e+00,\n",
              "         -1.6270e+01, -1.2148e+01, -8.7622e-01,  8.3644e-01,  1.2198e+01],\n",
              "        [-2.9563e+00,  5.5339e-01, -2.7339e+01,  1.4638e+01,  8.5979e-01,\n",
              "         -2.2387e+00, -1.0578e+01,  1.0095e+01,  2.7168e+00,  1.6801e+01],\n",
              "        [-3.0982e+00, -1.6106e+00, -3.0236e+01,  4.8977e+00,  1.4357e+01,\n",
              "         -9.5506e+00, -1.2579e+01,  1.7148e+00,  7.9764e+00,  1.4257e+01],\n",
              "        [-9.7234e+00,  1.1811e+00, -2.8072e+01,  9.4862e+00,  3.0123e+00,\n",
              "          6.7289e-01, -1.3988e+01,  2.4352e+00,  2.1904e+00,  2.1366e+01],\n",
              "        [-4.0153e+00,  2.3972e+00, -2.0993e+01,  6.4893e+00,  3.9569e+00,\n",
              "         -1.2691e+01, -8.4283e+00, -1.3236e+01,  4.6031e+00,  1.5577e+01],\n",
              "        [-1.6592e+00,  2.4317e-01, -2.5264e+01,  9.4052e-01,  9.6164e+00,\n",
              "         -1.1104e+01, -1.9644e+01,  1.2489e+00,  1.6381e+00,  1.3315e+01],\n",
              "        [-1.0431e+01,  7.8986e-01, -1.7684e+01, -1.3031e+00, -1.3237e+00,\n",
              "         -8.9918e+00, -7.2101e+00, -1.3054e+01, -1.9405e+00,  1.6103e+01],\n",
              "        [ 1.5725e+00,  6.0058e+00, -1.6938e+01,  6.5948e+00,  8.0045e-01,\n",
              "         -9.6233e+00, -6.3687e+00, -1.6026e+00,  2.7885e+00,  1.2437e+01],\n",
              "        [-6.2643e+00,  1.0950e+01, -7.5297e+00, -1.0748e+00,  7.7099e-01,\n",
              "         -8.7733e+00, -5.7126e+00, -2.3399e+00,  3.4207e+00,  3.0798e+00],\n",
              "        [ 7.4948e-01,  1.0616e+01, -2.0388e+01,  2.1189e+00,  5.5823e+00,\n",
              "         -1.0513e+01,  2.9407e+00,  3.0282e+00,  1.4107e+00,  1.0966e+01],\n",
              "        [-5.8452e+00, -1.4124e+00, -2.0004e+01,  5.1385e+00,  7.8043e-01,\n",
              "         -7.7164e+00, -8.3976e+00, -8.7099e+00,  5.2126e+00,  1.4331e+01],\n",
              "        [-1.2562e+01,  2.8670e+00, -2.4922e+01,  1.1745e+01, -3.1731e+00,\n",
              "         -9.7535e+00, -5.9048e-01, -4.4242e+00, -1.0209e+00,  2.5123e+01],\n",
              "        [-6.7121e+00,  1.9688e+00, -2.1675e+01,  5.0620e+00,  5.4406e+00,\n",
              "         -1.7234e+01, -1.1563e+01,  5.8627e-01, -2.1610e+00,  5.8211e+00],\n",
              "        [-6.4817e+00,  5.6575e+00, -2.6592e+01,  4.4303e+00,  3.6909e+00,\n",
              "         -1.6366e+01, -6.4624e+00,  3.6952e+00, -1.7660e+00,  8.2678e+00],\n",
              "        [-6.6651e+00, -3.4578e-01, -1.6458e+01,  1.6479e+01,  3.8951e+00,\n",
              "         -1.4790e+01, -5.0331e+00, -4.6194e+00, -1.6636e+00,  8.9001e+00],\n",
              "        [-8.2529e+00,  2.7210e+00, -1.4338e+01,  1.0175e+01, -3.0328e+00,\n",
              "         -1.4836e+01, -1.7378e+01, -7.1255e+00,  2.8319e+00,  2.3087e+00],\n",
              "        [-5.8073e+00, -1.6507e+00, -2.2689e+01,  7.7847e+00,  5.4850e+00,\n",
              "         -1.5918e+01, -1.1105e+00, -1.8127e+00,  1.2733e+00,  1.2806e+01]])"
            ]
          },
          "metadata": {},
          "execution_count": 16
        }
      ]
    },
    {
      "cell_type": "markdown",
      "source": [
        "Now we have 10 outputs for our network. We want to pass in an image to our network and get out a probability distribution over the classes that tells us the likely class(es) the image belongs to. Something that looks like this:\n",
        "<img src='assets/image_distribution.png' width=500px>\n",
        "\n",
        "Here we see that the probability for each class is roughly the same. This is representing an untrained network, it hasn't seen any data yet so it just returns a uniform distribution with equal probabilities for each class.\n",
        "\n",
        "To calculate this probability distribution, we often use the [**softmax** function](https://en.wikipedia.org/wiki/Softmax_function). Mathematically this looks like\n",
        "\n",
        "$$\n",
        "\\Large \\sigma(x_i) = \\cfrac{e^{x_i}}{\\sum_k^K{e^{x_k}}}\n",
        "$$\n",
        "\n",
        "What this does is squish each input $x_i$ between 0 and 1 and normalizes the values to give you a proper probability distribution where the probabilites sum up to one.\n",
        "\n",
        "> **Exercise:** Implement a function `softmax` that performs the softmax calculation and returns probability distributions for each example in the batch. Note that you'll need to pay attention to the shapes when doing this. If you have a tensor `a` with shape `(64, 10)` and a tensor `b` with shape `(64,)`, doing `a/b` will give you an error because PyTorch will try to do the division across the columns (called broadcasting) but you'll get a size mismatch. The way to think about this is for each of the 64 examples, you only want to divide by one value, the sum in the denominator. So you need `b` to have a shape of `(64, 1)`. This way PyTorch will divide the 10 values in each row of `a` by the one value in each row of `b`. Pay attention to how you take the sum as well. You'll need to define the `dim` keyword in `torch.sum`. Setting `dim=0` takes the sum across the rows while `dim=1` takes the sum across the columns."
      ],
      "metadata": {
        "id": "KMrUt-X4lWdZ"
      }
    },
    {
      "cell_type": "code",
      "source": [
        "def softmax(x):\n",
        "  return torch.exp(x)/torch.sum(torch.exp(x), dim =1).view(-1,1)\n",
        "\n",
        "prob = softmax(output)\n",
        "# does it have right shape (64,10)\n",
        "print(prob.shape) \n",
        "# does it sum up to 1\n",
        "print(prob.sum(dim =1))"
      ],
      "metadata": {
        "colab": {
          "base_uri": "https://localhost:8080/"
        },
        "id": "I0tcGTkblcts",
        "outputId": "c00ff527-a6ab-41e0-b0c4-4b195d577f97"
      },
      "execution_count": 17,
      "outputs": [
        {
          "output_type": "stream",
          "name": "stdout",
          "text": [
            "torch.Size([64, 10])\n",
            "tensor([1.0000, 1.0000, 1.0000, 1.0000, 1.0000, 1.0000, 1.0000, 1.0000, 1.0000,\n",
            "        1.0000, 1.0000, 1.0000, 1.0000, 1.0000, 1.0000, 1.0000, 1.0000, 1.0000,\n",
            "        1.0000, 1.0000, 1.0000, 1.0000, 1.0000, 1.0000, 1.0000, 1.0000, 1.0000,\n",
            "        1.0000, 1.0000, 1.0000, 1.0000, 1.0000, 1.0000, 1.0000, 1.0000, 1.0000,\n",
            "        1.0000, 1.0000, 1.0000, 1.0000, 1.0000, 1.0000, 1.0000, 1.0000, 1.0000,\n",
            "        1.0000, 1.0000, 1.0000, 1.0000, 1.0000, 1.0000, 1.0000, 1.0000, 1.0000,\n",
            "        1.0000, 1.0000, 1.0000, 1.0000, 1.0000, 1.0000, 1.0000, 1.0000, 1.0000,\n",
            "        1.0000])\n"
          ]
        }
      ]
    },
    {
      "cell_type": "markdown",
      "source": [
        "## Building networks with PyTorch\n",
        "\n",
        "PyTorch provides a module `nn` that makes building networks much simpler. Here I'll show you how to build the same one as above with 784 inputs, 256 hidden units, 10 output units and a softmax output."
      ],
      "metadata": {
        "id": "itM_Y9T_oYmj"
      }
    },
    {
      "cell_type": "code",
      "source": [
        "from torch import nn"
      ],
      "metadata": {
        "id": "tl3Vt-hVoc_s"
      },
      "execution_count": 18,
      "outputs": []
    },
    {
      "cell_type": "code",
      "source": [
        "class Network(nn.Module):\n",
        "  def __init__(self):\n",
        "    super().__init__()\n",
        "\n",
        "    # inputs to hidden layer transformation\n",
        "    self.hidden = nn.Linear(784,256)\n",
        "    #hidden to output linear transformation\n",
        "    self.output = nn.Linear(256,10)\n",
        "\n",
        "    # Define sigmoid activation and softmax activation\n",
        "    self.sigmoid = nn.Sigmoid()\n",
        "    self.softmax = nn.Softmax(dim=1)\n",
        "\n",
        "  def forward(self, x):\n",
        "    x = self.hidden(x)\n",
        "    x = self.sigmoid(x)\n",
        "    x = self.output(x)\n",
        "    x = self.softmax(x)\n",
        "\n",
        "    return x"
      ],
      "metadata": {
        "id": "YFmv72E3omNs"
      },
      "execution_count": 19,
      "outputs": []
    },
    {
      "cell_type": "markdown",
      "source": [
        "Let's go through this bit by bit.\n",
        "\n",
        "```python\n",
        "class Network(nn.Module):\n",
        "```\n",
        "\n",
        "Here we're inheriting from `nn.Module`. Combined with `super().__init__()` this creates a class that tracks the architecture and provides a lot of useful methods and attributes. It is mandatory to inherit from `nn.Module` when you're creating a class for your network. The name of the class itself can be anything.\n",
        "\n",
        "```python\n",
        "self.hidden = nn.Linear(784, 256)\n",
        "```\n",
        "\n",
        "This line creates a module for a linear transformation, $x\\mathbf{W} + b$, with 784 inputs and 256 outputs and assigns it to `self.hidden`. The module automatically creates the weight and bias tensors which we'll use in the `forward` method. You can access the weight and bias tensors once the network (`net`) is created with `net.hidden.weight` and `net.hidden.bias`.\n",
        "\n",
        "```python\n",
        "self.output = nn.Linear(256, 10)\n",
        "```\n",
        "\n",
        "Similarly, this creates another linear transformation with 256 inputs and 10 outputs.\n",
        "\n",
        "```python\n",
        "self.sigmoid = nn.Sigmoid()\n",
        "self.softmax = nn.Softmax(dim=1)\n",
        "```\n",
        "\n",
        "Here I defined operations for the sigmoid activation and softmax output. Setting `dim=1` in `nn.Softmax(dim=1)` calculates softmax across the columns.\n",
        "\n",
        "```python\n",
        "def forward(self, x):\n",
        "```\n",
        "\n",
        "PyTorch networks created with `nn.Module` must have a `forward` method defined. It takes in a tensor `x` and passes it through the operations you defined in the `__init__` method.\n",
        "\n",
        "```python\n",
        "x = self.hidden(x)\n",
        "x = self.sigmoid(x)\n",
        "x = self.output(x)\n",
        "x = self.softmax(x)\n",
        "```\n",
        "\n",
        "Here the input tensor `x` is passed through each operation a reassigned to `x`. We can see that the input tensor goes through the hidden layer, then a sigmoid function, then the output layer, and finally the softmax function. It doesn't matter what you name the variables here, as long as the inputs and outputs of the operations match the network architecture you want to build. The order in which you define things in the `__init__` method doesn't matter, but you'll need to sequence the operations correctly in the `forward` method.\n",
        "\n",
        "Now we can create a `Network` object."
      ],
      "metadata": {
        "id": "RzFgOm2qrUja"
      }
    },
    {
      "cell_type": "code",
      "source": [
        "model = Network()\n",
        "model"
      ],
      "metadata": {
        "colab": {
          "base_uri": "https://localhost:8080/"
        },
        "id": "SCz4AEysrfZn",
        "outputId": "0c5c7752-00fa-4a1a-f905-e86642dbe326"
      },
      "execution_count": 20,
      "outputs": [
        {
          "output_type": "execute_result",
          "data": {
            "text/plain": [
              "Network(\n",
              "  (hidden): Linear(in_features=784, out_features=256, bias=True)\n",
              "  (output): Linear(in_features=256, out_features=10, bias=True)\n",
              "  (sigmoid): Sigmoid()\n",
              "  (softmax): Softmax(dim=1)\n",
              ")"
            ]
          },
          "metadata": {},
          "execution_count": 20
        }
      ]
    },
    {
      "cell_type": "markdown",
      "source": [
        "You can define the network somewhat more concisely and clearly using the `torch.nn.functional` module. This is the most common way you'll see networks defined as many operations are simple element-wise functions. We normally import this module as `F`, `import torch.nn.functional as F`."
      ],
      "metadata": {
        "id": "wrOroxJOs5wX"
      }
    },
    {
      "cell_type": "code",
      "source": [
        "import torch.nn.functional as F\n",
        "\n",
        "class Classifier(nn.Module):\n",
        "  def __init__(self):\n",
        "    super().__init__()\n",
        "\n",
        "    #input to hidden tranformation\n",
        "    self.hidden = nn.Linear(784, 256)\n",
        "    # hidden to output\n",
        "    self.output = nn.Linear(256,10)\n",
        "\n",
        "    def forward(self, x):\n",
        "      #hidden layer with sigmoid\n",
        "      x = F.sigmoid(self.hidden(x))\n",
        "      # output layer with softmax\n",
        "      x = F.softmax(self.output(x), dim =1)\n",
        "\n",
        "      return x"
      ],
      "metadata": {
        "id": "ulWGITYZs67s"
      },
      "execution_count": 23,
      "outputs": []
    },
    {
      "cell_type": "code",
      "source": [
        "model = Classifier()\n",
        "model"
      ],
      "metadata": {
        "colab": {
          "base_uri": "https://localhost:8080/"
        },
        "id": "hYcUbWmouoo-",
        "outputId": "51729f5c-0019-4068-c51d-45c9004ac385"
      },
      "execution_count": 24,
      "outputs": [
        {
          "output_type": "execute_result",
          "data": {
            "text/plain": [
              "Classifier(\n",
              "  (hidden): Linear(in_features=784, out_features=256, bias=True)\n",
              "  (output): Linear(in_features=256, out_features=10, bias=True)\n",
              ")"
            ]
          },
          "metadata": {},
          "execution_count": 24
        }
      ]
    },
    {
      "cell_type": "markdown",
      "source": [
        "### Your Turn to Build a Network\n",
        "\n",
        "<img src=\"assets/mlp_mnist.png\" width=600px>\n",
        "\n",
        "> **Exercise:** Create a network with 784 input units, a hidden layer with 128 units and a ReLU activation, then a hidden layer with 64 units and a ReLU activation, and finally an output layer with a softmax activation as shown above. You can use a ReLU activation with the `nn.ReLU` module or `F.relu` function.\n",
        "\n",
        "It's good practice to name your layers by their type of network, for instance 'fc' to represent a fully-connected layer. As you code your solution, use `fc1`, `fc2`, and `fc3` as your layer names."
      ],
      "metadata": {
        "id": "TGkUzoBSv5b0"
      }
    },
    {
      "cell_type": "code",
      "source": [
        "import torch.nn.functional as F\n",
        "\n",
        "class myNetwork(nn.Module):\n",
        "  def __init__(self):\n",
        "    super().__init__()\n",
        "\n",
        "    # input to first hidden layer\n",
        "    self.hidden1 = nn.Linear(784,128)\n",
        "    # First hidden layer to second hidden layer\n",
        "    self.hidden2 = nn.Linear(128,64)\n",
        "    # Second hidden layer to output\n",
        "    self.output = nn.Linear(64, 10)\n",
        "\n",
        "  def forward(self, x):\n",
        "    x = F.relu(self.hidden1(x))\n",
        "    x = F.relu(self.hidden2(x))\n",
        "    x = F.softmax(self.output(x))\n",
        "\n",
        "    return x"
      ],
      "metadata": {
        "id": "R6sdiyN4v7wn"
      },
      "execution_count": 27,
      "outputs": []
    },
    {
      "cell_type": "code",
      "source": [
        "model = myNetwork()\n",
        "model"
      ],
      "metadata": {
        "colab": {
          "base_uri": "https://localhost:8080/"
        },
        "id": "TRTCcP6uy2hZ",
        "outputId": "c558a957-a286-4a86-c971-bf5c8c744fcb"
      },
      "execution_count": 29,
      "outputs": [
        {
          "output_type": "execute_result",
          "data": {
            "text/plain": [
              "myNetwork(\n",
              "  (hidden1): Linear(in_features=784, out_features=128, bias=True)\n",
              "  (hidden2): Linear(in_features=128, out_features=64, bias=True)\n",
              "  (output): Linear(in_features=64, out_features=10, bias=True)\n",
              ")"
            ]
          },
          "metadata": {},
          "execution_count": 29
        }
      ]
    },
    {
      "cell_type": "markdown",
      "source": [
        "### Using `nn.Sequential`\n",
        "\n",
        "PyTorch provides a convenient way to build networks like this where a tensor is passed sequentially through operations, `nn.Sequential` ([documentation](https://pytorch.org/docs/master/nn.html#torch.nn.Sequential)). Using this to build the equivalent network:"
      ],
      "metadata": {
        "id": "5bIFyyHl31ag"
      }
    },
    {
      "cell_type": "code",
      "source": [
        "# Hyperparameters for our network\n",
        "\n",
        "input_size = 784\n",
        "hidden_sizes = [128, 64]\n",
        "output_size = 10\n",
        "\n",
        "# Build a feed-forward network\n",
        "model = nn.Sequential(\n",
        "    nn.Linear(input_size, hidden_sizes[0]),\n",
        "    nn.ReLU(),\n",
        "    nn.Linear(hidden_sizes[0], hidden_sizes[1]),\n",
        "    nn.ReLU(),\n",
        "    nn.Linear(hidden_sizes[1], output_size),\n",
        "    nn.Softmax(dim=1)    \n",
        ")\n",
        "print(model)\n",
        "\n",
        "# # Forward pass through the network and display output\n",
        "# images,  labels = next(iter(trainloader))\n",
        "# images.resize_(images.shape[0],1,784)\n",
        "# ps = model.forward(images[0,:])\n",
        "# helper.(images[0].view(1,28,28), ps)"
      ],
      "metadata": {
        "colab": {
          "base_uri": "https://localhost:8080/"
        },
        "id": "hSvi8kk_39VR",
        "outputId": "1f87b8c8-756e-439c-e57f-a5089d65e773"
      },
      "execution_count": 32,
      "outputs": [
        {
          "output_type": "stream",
          "name": "stdout",
          "text": [
            "Sequential(\n",
            "  (0): Linear(in_features=784, out_features=128, bias=True)\n",
            "  (1): ReLU()\n",
            "  (2): Linear(in_features=128, out_features=64, bias=True)\n",
            "  (3): ReLU()\n",
            "  (4): Linear(in_features=64, out_features=10, bias=True)\n",
            "  (5): Softmax(dim=1)\n",
            ")\n"
          ]
        }
      ]
    },
    {
      "cell_type": "code",
      "source": [
        "print(model[0])"
      ],
      "metadata": {
        "colab": {
          "base_uri": "https://localhost:8080/"
        },
        "id": "aXW4x4Ir_Otx",
        "outputId": "93cc4f45-c32c-4935-e7bd-8b5323f6ef35"
      },
      "execution_count": 33,
      "outputs": [
        {
          "output_type": "stream",
          "name": "stdout",
          "text": [
            "Linear(in_features=784, out_features=128, bias=True)\n"
          ]
        }
      ]
    },
    {
      "cell_type": "code",
      "source": [
        "model[0].weight"
      ],
      "metadata": {
        "colab": {
          "base_uri": "https://localhost:8080/"
        },
        "id": "QDmQdX6q_WOD",
        "outputId": "863987fc-a813-4f64-85a7-ce9d3186840d"
      },
      "execution_count": 34,
      "outputs": [
        {
          "output_type": "execute_result",
          "data": {
            "text/plain": [
              "Parameter containing:\n",
              "tensor([[-0.0193, -0.0275,  0.0300,  ...,  0.0329, -0.0279,  0.0270],\n",
              "        [ 0.0260,  0.0162, -0.0004,  ..., -0.0179, -0.0003,  0.0009],\n",
              "        [ 0.0014, -0.0040,  0.0314,  ..., -0.0012, -0.0254,  0.0152],\n",
              "        ...,\n",
              "        [ 0.0054,  0.0085,  0.0214,  ..., -0.0130, -0.0166,  0.0235],\n",
              "        [-0.0054, -0.0227, -0.0289,  ..., -0.0099, -0.0040, -0.0004],\n",
              "        [-0.0003,  0.0022,  0.0030,  ...,  0.0025, -0.0049, -0.0314]],\n",
              "       requires_grad=True)"
            ]
          },
          "metadata": {},
          "execution_count": 34
        }
      ]
    },
    {
      "cell_type": "markdown",
      "source": [
        "You can also pass in an `OrderedDict` to name the individual layers and operations, instead of using incremental integers. Note that dictionary keys must be unique, so _each operation must have a different name_."
      ],
      "metadata": {
        "id": "f_jm9DgL_vya"
      }
    },
    {
      "cell_type": "code",
      "source": [
        "from collections import OrderedDict\n",
        "model = nn.Sequential(\n",
        "    OrderedDict([\n",
        "                 ('hidden1', nn.Linear(input_size, hidden_sizes[0])),\n",
        "                 ('relu1', nn.ReLU()),\n",
        "                 ('hidden2', nn.Linear(hidden_sizes[0], hidden_sizes[1])),\n",
        "                 ('relu2', nn.ReLU()),\n",
        "                 ('output', nn.Linear(hidden_sizes[1], output_size)),\n",
        "                 ('softmax', nn.Softmax(dim=1))\n",
        "    ])\n",
        ")\n",
        "model"
      ],
      "metadata": {
        "colab": {
          "base_uri": "https://localhost:8080/"
        },
        "id": "v5GpPEwk_zXv",
        "outputId": "53c8eaec-a335-4fdf-9856-0eef6e49bb3c"
      },
      "execution_count": 36,
      "outputs": [
        {
          "output_type": "execute_result",
          "data": {
            "text/plain": [
              "Sequential(\n",
              "  (hidden1): Linear(in_features=784, out_features=128, bias=True)\n",
              "  (relu1): ReLU()\n",
              "  (hidden2): Linear(in_features=128, out_features=64, bias=True)\n",
              "  (relu2): ReLU()\n",
              "  (output): Linear(in_features=64, out_features=10, bias=True)\n",
              "  (softmax): Softmax(dim=1)\n",
              ")"
            ]
          },
          "metadata": {},
          "execution_count": 36
        }
      ]
    },
    {
      "cell_type": "code",
      "source": [
        "print(model[0])"
      ],
      "metadata": {
        "colab": {
          "base_uri": "https://localhost:8080/"
        },
        "id": "A8rdbOys_iPb",
        "outputId": "28918214-9e0e-4835-87b7-58ed6fee10a0"
      },
      "execution_count": 37,
      "outputs": [
        {
          "output_type": "stream",
          "name": "stdout",
          "text": [
            "Linear(in_features=784, out_features=128, bias=True)\n"
          ]
        }
      ]
    },
    {
      "cell_type": "code",
      "source": [
        "print(model.hidden1)"
      ],
      "metadata": {
        "colab": {
          "base_uri": "https://localhost:8080/"
        },
        "id": "W4WrZMyTCVnO",
        "outputId": "a38aab24-0124-4dba-e307-627e2c7bc1df"
      },
      "execution_count": 38,
      "outputs": [
        {
          "output_type": "stream",
          "name": "stdout",
          "text": [
            "Linear(in_features=784, out_features=128, bias=True)\n"
          ]
        }
      ]
    },
    {
      "cell_type": "code",
      "source": [
        "print(model.hidden2)"
      ],
      "metadata": {
        "colab": {
          "base_uri": "https://localhost:8080/"
        },
        "id": "7iYFhqaCCc1R",
        "outputId": "a7f65a06-163a-42c9-f3b4-6bd32ab5772d"
      },
      "execution_count": 39,
      "outputs": [
        {
          "output_type": "stream",
          "name": "stdout",
          "text": [
            "Linear(in_features=128, out_features=64, bias=True)\n"
          ]
        }
      ]
    },
    {
      "cell_type": "code",
      "source": [
        "print(model.output)"
      ],
      "metadata": {
        "colab": {
          "base_uri": "https://localhost:8080/"
        },
        "id": "D2Vvpap2ClP1",
        "outputId": "1e94d043-7fb6-4a0f-b181-8feb6b0cf324"
      },
      "execution_count": 41,
      "outputs": [
        {
          "output_type": "stream",
          "name": "stdout",
          "text": [
            "Linear(in_features=64, out_features=10, bias=True)\n"
          ]
        }
      ]
    },
    {
      "cell_type": "code",
      "source": [
        "print(model.softmax)"
      ],
      "metadata": {
        "colab": {
          "base_uri": "https://localhost:8080/"
        },
        "id": "AuKNEet1C10l",
        "outputId": "44781697-d412-4f8d-d5cc-5d92e77c1fbb"
      },
      "execution_count": 42,
      "outputs": [
        {
          "output_type": "stream",
          "name": "stdout",
          "text": [
            "Softmax(dim=1)\n"
          ]
        }
      ]
    }
  ]
}